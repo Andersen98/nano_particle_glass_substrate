{
 "cells": [
  {
   "cell_type": "markdown",
   "metadata": {},
   "source": [
    "# Animate Incident Wave \n",
    "\n",
    "The purpose of this is to sanity check our simulation."
   ]
  },
  {
   "cell_type": "code",
   "execution_count": 4,
   "metadata": {},
   "outputs": [],
   "source": [
    "import src.elements as el\n",
    "import meep as mp\n",
    "import matplotlib.pyplot as plt\n",
    "import src.materials as materials"
   ]
  },
  {
   "cell_type": "code",
   "execution_count": 14,
   "metadata": {},
   "outputs": [
    {
     "data": {
      "text/plain": [
       "array([[1., 0., 0.],\n",
       "       [0., 1., 0.],\n",
       "       [0., 0., 1.]])"
      ]
     },
     "execution_count": 14,
     "metadata": {},
     "output_type": "execute_result"
    }
   ],
   "source": [
    "materials.Au_visible.mu(1.0/7.0)"
   ]
  },
  {
   "cell_type": "code",
   "execution_count": 17,
   "metadata": {},
   "outputs": [],
   "source": [
    "wvl_max = 18 #1800 nm\n",
    "wvl_center = 7 #700 nm\n",
    "approx_skin_depth = .0363 # 3.63 nm skin depth (https://www.pasternack.com/t-calculator-skin-depth.aspx)\n",
    "dpml = 0.5*wvl_max #rule of thumb 1/2 largest wavelength\n",
    "pad = 3 #padding between pml and cell interior\n",
    "sxyz = 2*dpml + 2*pad #size of simulation cell in x y and z\n",
    "\n",
    "#resolution should be able to resolve skin depth https://meep.readthedocs.io/en/latest/FAQ/#what-is-a-good-rule-of-thumb-for-the-grid-resolution\n",
    "resolution = 30.0 # 100nm has 30 pixels of grid\n",
    "\n",
    "particle_x = 1.35 #135 nm\n",
    "particle_y = 1.50 #150 nm\n",
    "particle_z = 0.50 #50 nm\n",
    "\n",
    "geometries = el.gold_box_on_glass_substrate(particle_x,particle_y,particle_z,sxyz,sxyz,sxyz)\n",
    "\n",
    "sources = [mp.Source(\n",
    "    mp.GaussianSource(wavelength=wvl_center, width=1.0,is_integrated=True),\n",
    "    center=mp.Vector3(0,0,pad),\n",
    "    size=mp.Vector3(sxyz,sxyz,0),\n",
    "    component=mp.Ex\n",
    "\n",
    ")]\n",
    "pml_layers = [mp.PML(thickness=dpml)]"
   ]
  },
  {
   "cell_type": "code",
   "execution_count": 18,
   "metadata": {},
   "outputs": [],
   "source": [
    "sim = mp.Simulation(\n",
    "    cell_size=mp.Vector3(sxyz,sxyz,sxyz),\n",
    "    resolution=resolution,\n",
    "    geometry=geometries,\n",
    "    sources=sources,\n",
    "    boundary_layers=pml_layers,\n",
    "    force_complex_fields=True,\n",
    ")"
   ]
  },
  {
   "cell_type": "code",
   "execution_count": 19,
   "metadata": {},
   "outputs": [
    {
     "name": "stdout",
     "output_type": "stream",
     "text": [
      "-----------\n",
      "Initializing structure...\n",
      "time for choose_chunkdivision = 0.00944495 s\n",
      "Working in 3D dimensions.\n",
      "Computational cell is 24 x 24 x 24 with resolution 30\n",
      "     block, center = (0,0,-6.25)\n",
      "          size (1e+20,1e+20,12.5)\n",
      "          axes (1,0,0), (0,1,0), (0,0,1)\n",
      "          dielectric constant epsilon diagonal = (2.25,2.25,2.25)\n",
      "     block, center = (0,0,0.25)\n",
      "          size (1.35,1.5,0.5)\n",
      "          axes (1,0,0), (0,1,0), (0,0,1)\n",
      "          dielectric constant epsilon diagonal = (0.6888,0.6888,0.6888)\n"
     ]
    },
    {
     "name": "stderr",
     "output_type": "stream",
     "text": [
      "/home/maeve/micromamba/envs/nano-particle-glass-substrate/lib/python3.10/site-packages/meep/simulation.py:2041: RuntimeWarning: Epsilon < 1 may require adjusting the Courant parameter. See the 'Numerical Stability' entry under the 'Materials' section of the documentation\n",
      "  warnings.warn(eps_warning, RuntimeWarning)\n"
     ]
    },
    {
     "name": "stdout",
     "output_type": "stream",
     "text": [
      "subpixel-averaging is 25.2042% done, 11.8719 s remaining\n",
      "subpixel-averaging is 51.4271% done, 3.77865 s remaining\n",
      "subpixel-averaging is 76.0697% done, 1.25839 s remaining\n",
      "subpixel-averaging is 14.9873% done, 22.6961 s remaining\n",
      "subpixel-averaging is 29.3883% done, 9.61121 s remaining\n",
      "subpixel-averaging is 44.2514% done, 5.04036 s remaining\n",
      "subpixel-averaging is 59.2089% done, 2.756 s remaining\n",
      "subpixel-averaging is 73.5751% done, 1.43701 s remaining\n",
      "subpixel-averaging is 88.6519% done, 0.512161 s remaining\n",
      "subpixel-averaging is 27.7653% done, 10.4082 s remaining\n",
      "subpixel-averaging is 56.6256% done, 3.06449 s remaining\n",
      "subpixel-averaging is 83.7415% done, 0.776699 s remaining\n",
      "subpixel-averaging is 26.6651% done, 11.0022 s remaining\n",
      "subpixel-averaging is 52.6346% done, 3.59959 s remaining\n",
      "subpixel-averaging is 79.1904% done, 1.05126 s remaining\n",
      "subpixel-averaging is 14.3165% done, 23.9427 s remaining\n",
      "subpixel-averaging is 29.4628% done, 9.57886 s remaining\n",
      "subpixel-averaging is 43.8936% done, 5.11364 s remaining\n",
      "subpixel-averaging is 58.4834% done, 2.84032 s remaining\n",
      "subpixel-averaging is 73.5304% done, 1.44004 s remaining\n",
      "subpixel-averaging is 87.6581% done, 0.563233 s remaining\n",
      "subpixel-averaging is 28.0296% done, 10.274 s remaining\n",
      "subpixel-averaging is 55.7194% done, 3.17888 s remaining\n",
      "subpixel-averaging is 84.2021% done, 0.750489 s remaining\n",
      "subpixel-averaging is 40.2171% done, 5.94679 s remaining\n",
      "subpixel-averaging is 81.5819% done, 0.903268 s remaining\n",
      "subpixel-averaging is 21.7924% done, 14.3614 s remaining\n",
      "subpixel-averaging is 43.985% done, 5.0941 s remaining\n",
      "subpixel-averaging is 65.2564% done, 2.12996 s remaining\n",
      "subpixel-averaging is 88.1891% done, 0.535728 s remaining\n",
      "subpixel-averaging is 40.8254% done, 5.7994 s remaining\n",
      "subpixel-averaging is 84.5768% done, 0.729666 s remaining\n",
      "subpixel-averaging is 27.4702% done, 10.5626 s remaining\n",
      "subpixel-averaging is 54.7465% done, 3.30644 s remaining\n",
      "subpixel-averaging is 82.0627% done, 0.874415 s remaining\n",
      "subpixel-averaging is 15.2209% done, 22.2831 s remaining\n",
      "subpixel-averaging is 30.3822% done, 9.16626 s remaining\n",
      "subpixel-averaging is 45.6229% done, 4.76849 s remaining\n",
      "subpixel-averaging is 61.0525% done, 2.55192 s remaining\n",
      "subpixel-averaging is 76.02% done, 1.26185 s remaining\n",
      "subpixel-averaging is 91.1614% done, 0.387852 s remaining\n",
      "subpixel-averaging is 28.2712% done, 10.1506 s remaining\n",
      "subpixel-averaging is 57.3354% done, 2.97677 s remaining\n",
      "subpixel-averaging is 85.7727% done, 0.663707 s remaining\n",
      "subpixel-averaging is 24.588% done, 12.2717 s remaining\n",
      "subpixel-averaging is 46.0205% done, 4.69206 s remaining\n",
      "subpixel-averaging is 69.1475% done, 1.78494 s remaining\n",
      "subpixel-averaging is 96.3543% done, 0.151363 s remaining\n",
      "subpixel-averaging is 14.6693% done, 23.2683 s remaining\n",
      "subpixel-averaging is 29.9846% done, 9.34078 s remaining\n",
      "subpixel-averaging is 45.3447% done, 4.82256 s remaining\n",
      "subpixel-averaging is 60.3817% done, 2.62495 s remaining\n",
      "subpixel-averaging is 75.7368% done, 1.28148 s remaining\n",
      "subpixel-averaging is 90.421% done, 0.423963 s remaining\n",
      "subpixel-averaging is 28.4298% done, 10.0726 s remaining\n",
      "subpixel-averaging is 57.0409% done, 3.01315 s remaining\n",
      "subpixel-averaging is 85.7803% done, 0.663174 s remaining\n",
      "subpixel-averaging is 41.4328% done, 5.65501 s remaining\n",
      "subpixel-averaging is 83.515% done, 0.789661 s remaining\n",
      "subpixel-averaging is 22.4267% done, 13.8366 s remaining\n",
      "subpixel-averaging is 45.45% done, 4.80157 s remaining\n",
      "subpixel-averaging is 68.6393% done, 1.8282 s remaining\n",
      "subpixel-averaging is 91.8287% done, 0.356015 s remaining\n",
      "subpixel-averaging is 43.5448% done, 5.187 s remaining\n",
      "subpixel-averaging is 86.4816% done, 0.625366 s remaining\n",
      "subpixel-averaging is 42.0671% done, 5.5092 s remaining\n",
      "subpixel-averaging is 82.0954% done, 0.87242 s remaining\n",
      "subpixel-averaging is 23.2045% done, 13.2413 s remaining\n",
      "subpixel-averaging is 46.0238% done, 4.69179 s remaining\n",
      "subpixel-averaging is 68.6167% done, 1.82985 s remaining\n",
      "subpixel-averaging is 91.4964% done, 0.37179 s remaining\n",
      "subpixel-averaging is 44.1759% done, 5.0557 s remaining\n",
      "subpixel-averaging is 87.411% done, 0.576229 s remaining\n",
      "subpixel-averaging is 42.1577% done, 5.4882 s remaining\n",
      "subpixel-averaging is 82.9939% done, 0.81974 s remaining\n",
      "subpixel-averaging is 22.9704% done, 13.4173 s remaining\n",
      "subpixel-averaging is 46.0087% done, 4.69461 s remaining\n",
      "subpixel-averaging is 68.4959% done, 1.84039 s remaining\n",
      "subpixel-averaging is 90.7111% done, 0.409638 s remaining\n",
      "subpixel-averaging is 43.3154% done, 5.23474 s remaining\n",
      "subpixel-averaging is 86.9635% done, 0.599751 s remaining\n",
      "subpixel-averaging is 63.1314% done, 2.33634 s remaining\n",
      "subpixel-averaging is 34.5031% done, 7.59496 s remaining\n",
      "subpixel-averaging is 68.2145% done, 1.86395 s remaining\n",
      "subpixel-averaging is 65.6979% done, 2.08895 s remaining\n",
      "subpixel-averaging is 26.9981% done, 10.8161 s remaining\n",
      "subpixel-averaging is 53.9713% done, 3.41186 s remaining\n"
     ]
    }
   ],
   "source": [
    "sim.run(mp.at_every(0.6 , mp.output_png(mp.Ex, \"-Zc dkbluered\")), until=5)"
   ]
  },
  {
   "cell_type": "code",
   "execution_count": null,
   "metadata": {},
   "outputs": [],
   "source": []
  }
 ],
 "metadata": {
  "kernelspec": {
   "display_name": "Python 3.10.6 64-bit ('nano-particle-glass-substrate')",
   "language": "python",
   "name": "python3"
  },
  "language_info": {
   "codemirror_mode": {
    "name": "ipython",
    "version": 3
   },
   "file_extension": ".py",
   "mimetype": "text/x-python",
   "name": "python",
   "nbconvert_exporter": "python",
   "pygments_lexer": "ipython3",
   "version": "3.10.6"
  },
  "orig_nbformat": 4,
  "vscode": {
   "interpreter": {
    "hash": "2b0fe123830a3e37d26038cf869e0f5447c4d1151f8efa11cd9ac57a6955aa42"
   }
  }
 },
 "nbformat": 4,
 "nbformat_minor": 2
}
